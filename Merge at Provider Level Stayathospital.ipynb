{
 "cells": [
  {
   "cell_type": "code",
   "execution_count": 1,
   "id": "7f5a5e65",
   "metadata": {},
   "outputs": [],
   "source": [
    "import pandas as pd"
   ]
  },
  {
   "cell_type": "code",
   "execution_count": 2,
   "id": "ca8c58da",
   "metadata": {},
   "outputs": [],
   "source": [
    "# Optional display settings for better notebook formatting\n",
    "pd.set_option('display.max_columns', None)  # Show all columns\n",
    "pd.set_option('display.max_rows', 10)       # Limit number of rows shown\n",
    "pd.set_option('display.width', 1000)        # Width of the display in characters"
   ]
  },
  {
   "cell_type": "code",
   "execution_count": 3,
   "id": "baf9c415",
   "metadata": {},
   "outputs": [],
   "source": [
    "Train = pd.read_csv('Train-1542865627584.csv')  # 5,410 rows, Provider fraud labels\n",
    "Beneficiary = pd.read_csv('Train_Beneficiarydata-1542865627584.csv')  # 138,556 rows, Patient info\n",
    "Inpatient = pd.read_csv('Train_Inpatientdata-1542865627584.csv')  # 40,474 rows, Hospital stays\n",
    "Outpatient = pd.read_csv('Train_Outpatientdata-1542865627584.csv')  # 517,737 rows, Outpatient visits"
   ]
  },
  {
   "cell_type": "code",
   "execution_count": 4,
   "id": "b3225012",
   "metadata": {},
   "outputs": [],
   "source": [
    "# Calculate the Patient stay at hospital in days\n",
    "Inpatient['AdmissionDt']= pd.to_datetime(Inpatient['AdmissionDt'])\n",
    "Inpatient['DischargeDt']= pd.to_datetime(Inpatient['DischargeDt'])\n",
    "Inpatient['StayAtHospitalInDays'] = (Inpatient['DischargeDt'] - Inpatient['AdmissionDt']).dt.days\n"
   ]
  },
  {
   "cell_type": "code",
   "execution_count": 5,
   "id": "beda5e31-bf9e-4855-82d8-80cde6eb45bd",
   "metadata": {},
   "outputs": [
    {
     "data": {
      "text/html": [
       "<div>\n",
       "<style scoped>\n",
       "    .dataframe tbody tr th:only-of-type {\n",
       "        vertical-align: middle;\n",
       "    }\n",
       "\n",
       "    .dataframe tbody tr th {\n",
       "        vertical-align: top;\n",
       "    }\n",
       "\n",
       "    .dataframe thead th {\n",
       "        text-align: right;\n",
       "    }\n",
       "</style>\n",
       "<table border=\"1\" class=\"dataframe\">\n",
       "  <thead>\n",
       "    <tr style=\"text-align: right;\">\n",
       "      <th></th>\n",
       "      <th>Provider</th>\n",
       "      <th>IP_Averagedaysinhospital</th>\n",
       "    </tr>\n",
       "  </thead>\n",
       "  <tbody>\n",
       "    <tr>\n",
       "      <th>0</th>\n",
       "      <td>PRV51001</td>\n",
       "      <td>5.0</td>\n",
       "    </tr>\n",
       "    <tr>\n",
       "      <th>1</th>\n",
       "      <td>PRV51003</td>\n",
       "      <td>5.0</td>\n",
       "    </tr>\n",
       "    <tr>\n",
       "      <th>2</th>\n",
       "      <td>PRV51007</td>\n",
       "      <td>5.0</td>\n",
       "    </tr>\n",
       "    <tr>\n",
       "      <th>3</th>\n",
       "      <td>PRV51008</td>\n",
       "      <td>4.0</td>\n",
       "    </tr>\n",
       "    <tr>\n",
       "      <th>4</th>\n",
       "      <td>PRV51011</td>\n",
       "      <td>5.0</td>\n",
       "    </tr>\n",
       "    <tr>\n",
       "      <th>...</th>\n",
       "      <td>...</td>\n",
       "      <td>...</td>\n",
       "    </tr>\n",
       "    <tr>\n",
       "      <th>2087</th>\n",
       "      <td>PRV57719</td>\n",
       "      <td>14.0</td>\n",
       "    </tr>\n",
       "    <tr>\n",
       "      <th>2088</th>\n",
       "      <td>PRV57728</td>\n",
       "      <td>4.0</td>\n",
       "    </tr>\n",
       "    <tr>\n",
       "      <th>2089</th>\n",
       "      <td>PRV57729</td>\n",
       "      <td>6.0</td>\n",
       "    </tr>\n",
       "    <tr>\n",
       "      <th>2090</th>\n",
       "      <td>PRV57732</td>\n",
       "      <td>5.0</td>\n",
       "    </tr>\n",
       "    <tr>\n",
       "      <th>2091</th>\n",
       "      <td>PRV57757</td>\n",
       "      <td>6.0</td>\n",
       "    </tr>\n",
       "  </tbody>\n",
       "</table>\n",
       "<p>2092 rows × 2 columns</p>\n",
       "</div>"
      ],
      "text/plain": [
       "      Provider  IP_Averagedaysinhospital\n",
       "0     PRV51001                       5.0\n",
       "1     PRV51003                       5.0\n",
       "2     PRV51007                       5.0\n",
       "3     PRV51008                       4.0\n",
       "4     PRV51011                       5.0\n",
       "...        ...                       ...\n",
       "2087  PRV57719                      14.0\n",
       "2088  PRV57728                       4.0\n",
       "2089  PRV57729                       6.0\n",
       "2090  PRV57732                       5.0\n",
       "2091  PRV57757                       6.0\n",
       "\n",
       "[2092 rows x 2 columns]"
      ]
     },
     "execution_count": 5,
     "metadata": {},
     "output_type": "execute_result"
    }
   ],
   "source": [
    "# Get provider-level  of stay at hospital average of days\n",
    "IP_provider_days = Inpatient.groupby('Provider')['StayAtHospitalInDays'].mean().reset_index().round()\n",
    "IP_provider_days = IP_provider_days.rename(columns={'StayAtHospitalInDays': 'IP_Averagedaysinhospital'})\n",
    "IP_provider_days"
   ]
  },
  {
   "cell_type": "code",
   "execution_count": 6,
   "id": "7b88b755",
   "metadata": {},
   "outputs": [],
   "source": [
    "# Merge IP_provider_days  and Train\n",
    "provider_daysinhospital = pd.merge(\n",
    "    Train,\n",
    "    IP_provider_days,  \n",
    "    on='Provider',\n",
    "    how='left'\n",
    ").fillna(0)  "
   ]
  },
  {
   "cell_type": "code",
   "execution_count": 7,
   "id": "069f2472",
   "metadata": {},
   "outputs": [
    {
     "data": {
      "text/html": [
       "<div>\n",
       "<style scoped>\n",
       "    .dataframe tbody tr th:only-of-type {\n",
       "        vertical-align: middle;\n",
       "    }\n",
       "\n",
       "    .dataframe tbody tr th {\n",
       "        vertical-align: top;\n",
       "    }\n",
       "\n",
       "    .dataframe thead th {\n",
       "        text-align: right;\n",
       "    }\n",
       "</style>\n",
       "<table border=\"1\" class=\"dataframe\">\n",
       "  <thead>\n",
       "    <tr style=\"text-align: right;\">\n",
       "      <th></th>\n",
       "      <th>Provider</th>\n",
       "      <th>PotentialFraud</th>\n",
       "      <th>IP_Averagedaysinhospital</th>\n",
       "    </tr>\n",
       "  </thead>\n",
       "  <tbody>\n",
       "    <tr>\n",
       "      <th>0</th>\n",
       "      <td>PRV51001</td>\n",
       "      <td>No</td>\n",
       "      <td>5.0</td>\n",
       "    </tr>\n",
       "    <tr>\n",
       "      <th>1</th>\n",
       "      <td>PRV51003</td>\n",
       "      <td>Yes</td>\n",
       "      <td>5.0</td>\n",
       "    </tr>\n",
       "    <tr>\n",
       "      <th>2</th>\n",
       "      <td>PRV51004</td>\n",
       "      <td>No</td>\n",
       "      <td>0.0</td>\n",
       "    </tr>\n",
       "    <tr>\n",
       "      <th>3</th>\n",
       "      <td>PRV51005</td>\n",
       "      <td>Yes</td>\n",
       "      <td>0.0</td>\n",
       "    </tr>\n",
       "    <tr>\n",
       "      <th>4</th>\n",
       "      <td>PRV51007</td>\n",
       "      <td>No</td>\n",
       "      <td>5.0</td>\n",
       "    </tr>\n",
       "    <tr>\n",
       "      <th>...</th>\n",
       "      <td>...</td>\n",
       "      <td>...</td>\n",
       "      <td>...</td>\n",
       "    </tr>\n",
       "    <tr>\n",
       "      <th>5405</th>\n",
       "      <td>PRV57759</td>\n",
       "      <td>No</td>\n",
       "      <td>0.0</td>\n",
       "    </tr>\n",
       "    <tr>\n",
       "      <th>5406</th>\n",
       "      <td>PRV57760</td>\n",
       "      <td>No</td>\n",
       "      <td>0.0</td>\n",
       "    </tr>\n",
       "    <tr>\n",
       "      <th>5407</th>\n",
       "      <td>PRV57761</td>\n",
       "      <td>No</td>\n",
       "      <td>0.0</td>\n",
       "    </tr>\n",
       "    <tr>\n",
       "      <th>5408</th>\n",
       "      <td>PRV57762</td>\n",
       "      <td>No</td>\n",
       "      <td>0.0</td>\n",
       "    </tr>\n",
       "    <tr>\n",
       "      <th>5409</th>\n",
       "      <td>PRV57763</td>\n",
       "      <td>No</td>\n",
       "      <td>0.0</td>\n",
       "    </tr>\n",
       "  </tbody>\n",
       "</table>\n",
       "<p>5410 rows × 3 columns</p>\n",
       "</div>"
      ],
      "text/plain": [
       "      Provider PotentialFraud  IP_Averagedaysinhospital\n",
       "0     PRV51001             No                       5.0\n",
       "1     PRV51003            Yes                       5.0\n",
       "2     PRV51004             No                       0.0\n",
       "3     PRV51005            Yes                       0.0\n",
       "4     PRV51007             No                       5.0\n",
       "...        ...            ...                       ...\n",
       "5405  PRV57759             No                       0.0\n",
       "5406  PRV57760             No                       0.0\n",
       "5407  PRV57761             No                       0.0\n",
       "5408  PRV57762             No                       0.0\n",
       "5409  PRV57763             No                       0.0\n",
       "\n",
       "[5410 rows x 3 columns]"
      ]
     },
     "execution_count": 7,
     "metadata": {},
     "output_type": "execute_result"
    }
   ],
   "source": [
    "provider_daysinhospital"
   ]
  },
  {
   "cell_type": "code",
   "execution_count": 8,
   "id": "49c49f9e-1525-4a30-a7b2-4ff94e7fb2b8",
   "metadata": {},
   "outputs": [],
   "source": [
    "# Save final_df as a CSV file\n",
    "provider_daysinhospital.to_csv(\"Merge_providerlevel_Stayathospital.csv\", index=False)"
   ]
  },
  {
   "cell_type": "code",
   "execution_count": 9,
   "id": "76192f97",
   "metadata": {},
   "outputs": [
    {
     "data": {
      "text/plain": [
       "<Figure size 1000x500 with 0 Axes>"
      ]
     },
     "metadata": {},
     "output_type": "display_data"
    },
    {
     "data": {
      "image/png": "[encoded data removed]",
      "text/plain": [
       "<Figure size 1000x500 with 1 Axes>"
      ]
     },
     "metadata": {},
     "output_type": "display_data"
    }
   ],
   "source": [
    "import matplotlib.pyplot as plt\n",
    "\n",
    "\n",
    "# Grouping by PotentialFraud and calculating mean reimbursement amounts\n",
    "fraud_summary = provider_daysinhospital.groupby(\"PotentialFraud\")[\n",
    "    [\"IP_Averagedaysinhospital\"]\n",
    "].mean()\n",
    "\n",
    "# Plotting Inpatient stay at hospital\n",
    "plt.figure(figsize=(10, 5))\n",
    "fraud_summary.plot(kind=\"bar\", figsize=(10, 5), rot=0)\n",
    "plt.title(\"Average days at hospital by Fraud Status\")\n",
    "plt.ylabel(\"Average days at hospital (days)\")\n",
    "plt.xlabel(\"Potential Fraud Status\")\n",
    "plt.xticks(rotation=0)\n",
    "plt.legend([\"IP_Averagedaysinhospital\"])\n",
    "plt.grid(axis=\"y\", linestyle=\"--\", alpha=0.7)\n",
    "plt.show()\n"
   ]
  },
  {
   "cell_type": "code",
   "execution_count": null,
   "id": "7442a9fa-09e6-42e0-a395-6e2bc5dc1f0a",
   "metadata": {},
   "outputs": [],
   "source": []
  },
  {
   "cell_type": "code",
   "execution_count": null,
   "id": "6eccb878-036c-4211-b116-43e30f7eaf7a",
   "metadata": {},
   "outputs": [],
   "source": []
  },
  {
   "cell_type": "code",
   "execution_count": null,
   "id": "e7025fff-f126-405d-a0c9-02394710f4af",
   "metadata": {},
   "outputs": [],
   "source": []
  },
  {
   "cell_type": "code",
   "execution_count": null,
   "id": "170096a7",
   "metadata": {},
   "outputs": [],
   "source": []
  },
  {
   "cell_type": "code",
   "execution_count": null,
   "id": "440919d8",
   "metadata": {},
   "outputs": [],
   "source": []
  },
  {
   "cell_type": "code",
   "execution_count": null,
   "id": "155dd9d9",
   "metadata": {},
   "outputs": [],
   "source": []
  },
  {
   "cell_type": "code",
   "execution_count": null,
   "id": "c8e6e76a",
   "metadata": {},
   "outputs": [],
   "source": []
  },
  {
   "cell_type": "code",
   "execution_count": null,
   "id": "c1e805f5",
   "metadata": {},
   "outputs": [],
   "source": []
  }
 ],
 "metadata": {
  "hide_input": false,
  "kernelspec": {
   "display_name": "Python 3 (ipykernel)",
   "language": "python",
   "name": "python3"
  },
  "language_info": {
   "codemirror_mode": {
    "name": "ipython",
    "version": 3
   },
   "file_extension": ".py",
   "mimetype": "text/x-python",
   "name": "python",
   "nbconvert_exporter": "python",
   "pygments_lexer": "ipython3",
   "version": "3.11.7"
  },
  "varInspector": {
   "cols": {
    "lenName": 16,
    "lenType": 16,
    "lenVar": 40
   },
   "kernels_config": {
    "python": {
     "delete_cmd_postfix": "",
     "delete_cmd_prefix": "del ",
     "library": "var_list.py",
     "varRefreshCmd": "print(var_dic_list())"
    },
    "r": {
     "delete_cmd_postfix": ") ",
     "delete_cmd_prefix": "rm(",
     "library": "var_list.r",
     "varRefreshCmd": "cat(var_dic_list()) "
    }
   },
   "types_to_exclude": [
    "module",
    "function",
    "builtin_function_or_method",
    "instance",
    "_Feature"
   ],
   "window_display": false
  }
 },
 "nbformat": 4,
 "nbformat_minor": 5
}
