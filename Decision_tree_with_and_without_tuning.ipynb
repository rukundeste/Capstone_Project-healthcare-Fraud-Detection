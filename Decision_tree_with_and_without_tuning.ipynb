{
 "cells": [
  {
   "cell_type": "code",
   "execution_count": 1,
   "id": "52717b44-6220-40ff-987a-677add04e516",
   "metadata": {},
   "outputs": [],
   "source": [
    "import pandas as pd\n",
    "import numpy as np\n",
    "from sklearn.pipeline import Pipeline\n",
    "from sklearn.impute import SimpleImputer\n",
    "from sklearn.preprocessing import StandardScaler\n",
    "from sklearn.preprocessing import OneHotEncoder\n",
    "from sklearn.compose import ColumnTransformer\n",
    "from sklearn.model_selection import train_test_split, GridSearchCV\n",
    "from sklearn.linear_model import LogisticRegression\n",
    "from sklearn.metrics import accuracy_score\n",
    "from sklearn.metrics import precision_score\n",
    "from sklearn.metrics import recall_score\n",
    "from sklearn.metrics import f1_score\n",
    "from sklearn.metrics import roc_curve\n",
    "from sklearn.metrics import roc_auc_score\n",
    "from sklearn.metrics import confusion_matrix\n",
    "import matplotlib.pyplot as plt\n",
    "from sklearn.metrics import classification_report\n",
    "from sklearn.ensemble import RandomForestClassifier \n",
    "from xgboost import XGBClassifier\n",
    "from lightgbm import LGBMClassifier\n",
    "from catboost import CatBoostClassifier\n",
    "import seaborn as sns\n",
    "from sklearn.tree import DecisionTreeClassifier\n",
    "import xgboost as xgb\n",
    "import lightgbm as lgb\n",
    "import catboost as cb\n",
    "from sklearn.metrics import ConfusionMatrixDisplay\n",
    "\n"
   ]
  },
  {
   "cell_type": "code",
   "execution_count": 2,
   "id": "145c1e74-33fb-42a0-9051-d26e87028539",
   "metadata": {},
   "outputs": [],
   "source": [
    "# Display setting to better visualize notebook\n",
    "pd.set_option('display.max_columns',None)\n",
    "pd.set_option('display.max_rows',10)\n",
    "pd.set_option('display.width',1000)"
   ]
  },
  {
   "cell_type": "code",
   "execution_count": 3,
   "id": "13926c55-828d-46af-8027-c8bcb526d19e",
   "metadata": {},
   "outputs": [],
   "source": [
    "# Read Aggregated  data\n",
    "df = pd.read_csv('New_features.csv')"
   ]
  },
  {
   "cell_type": "code",
   "execution_count": 4,
   "id": "f6812233-8428-407d-82dd-217ae3f738ad",
   "metadata": {},
   "outputs": [
    {
     "data": {
      "text/plain": [
       "(5410, 13)"
      ]
     },
     "execution_count": 4,
     "metadata": {},
     "output_type": "execute_result"
    }
   ],
   "source": [
    "df.shape"
   ]
  },
  {
   "cell_type": "code",
   "execution_count": 5,
   "id": "2eb9715f-45d3-42ae-be49-87317982e8e1",
   "metadata": {},
   "outputs": [
    {
     "data": {
      "text/plain": [
       "Index(['Provider', 'IP_average_claim_duration', 'OP_average_claim_duration', 'PotentialFraud', 'IP_Claims_Total', 'OP_Claims_Total', 'IP_Averagedaysinhospital', 'IPAnnualDeductibleAmt', 'OPAnnualDeductibleAmt', 'IP_total_diagnosis', 'OP_total_diagnosis', 'IP_total_procedures', 'OP_total_procedures'], dtype='object')"
      ]
     },
     "execution_count": 5,
     "metadata": {},
     "output_type": "execute_result"
    }
   ],
   "source": [
    "df.columns"
   ]
  },
  {
   "cell_type": "code",
   "execution_count": 6,
   "id": "95e64ba9-c827-4ece-922a-da915bd61213",
   "metadata": {},
   "outputs": [
    {
     "data": {
      "text/html": [
       "<div>\n",
       "<style scoped>\n",
       "    .dataframe tbody tr th:only-of-type {\n",
       "        vertical-align: middle;\n",
       "    }\n",
       "\n",
       "    .dataframe tbody tr th {\n",
       "        vertical-align: top;\n",
       "    }\n",
       "\n",
       "    .dataframe thead th {\n",
       "        text-align: right;\n",
       "    }\n",
       "</style>\n",
       "<table border=\"1\" class=\"dataframe\">\n",
       "  <thead>\n",
       "    <tr style=\"text-align: right;\">\n",
       "      <th></th>\n",
       "      <th>Provider</th>\n",
       "      <th>IP_average_claim_duration</th>\n",
       "      <th>OP_average_claim_duration</th>\n",
       "      <th>PotentialFraud</th>\n",
       "      <th>IP_Claims_Total</th>\n",
       "      <th>OP_Claims_Total</th>\n",
       "      <th>IP_Averagedaysinhospital</th>\n",
       "      <th>IPAnnualDeductibleAmt</th>\n",
       "      <th>OPAnnualDeductibleAmt</th>\n",
       "      <th>IP_total_diagnosis</th>\n",
       "      <th>OP_total_diagnosis</th>\n",
       "      <th>IP_total_procedures</th>\n",
       "      <th>OP_total_procedures</th>\n",
       "    </tr>\n",
       "  </thead>\n",
       "  <tbody>\n",
       "    <tr>\n",
       "      <th>0</th>\n",
       "      <td>PRV51001</td>\n",
       "      <td>5.0</td>\n",
       "      <td>1.0</td>\n",
       "      <td>No</td>\n",
       "      <td>97000.0</td>\n",
       "      <td>7640.0</td>\n",
       "      <td>5.0</td>\n",
       "      <td>890.0</td>\n",
       "      <td>475.0</td>\n",
       "      <td>36.0</td>\n",
       "      <td>44.0</td>\n",
       "      <td>3.0</td>\n",
       "      <td>0.0</td>\n",
       "    </tr>\n",
       "    <tr>\n",
       "      <th>1</th>\n",
       "      <td>PRV51003</td>\n",
       "      <td>5.0</td>\n",
       "      <td>2.0</td>\n",
       "      <td>Yes</td>\n",
       "      <td>573000.0</td>\n",
       "      <td>32670.0</td>\n",
       "      <td>5.0</td>\n",
       "      <td>823.0</td>\n",
       "      <td>665.0</td>\n",
       "      <td>503.0</td>\n",
       "      <td>190.0</td>\n",
       "      <td>48.0</td>\n",
       "      <td>0.0</td>\n",
       "    </tr>\n",
       "    <tr>\n",
       "      <th>2</th>\n",
       "      <td>PRV51004</td>\n",
       "      <td>0.0</td>\n",
       "      <td>1.0</td>\n",
       "      <td>No</td>\n",
       "      <td>0.0</td>\n",
       "      <td>52170.0</td>\n",
       "      <td>0.0</td>\n",
       "      <td>454.0</td>\n",
       "      <td>601.0</td>\n",
       "      <td>0.0</td>\n",
       "      <td>385.0</td>\n",
       "      <td>0.0</td>\n",
       "      <td>0.0</td>\n",
       "    </tr>\n",
       "    <tr>\n",
       "      <th>3</th>\n",
       "      <td>PRV51005</td>\n",
       "      <td>0.0</td>\n",
       "      <td>1.0</td>\n",
       "      <td>Yes</td>\n",
       "      <td>0.0</td>\n",
       "      <td>280910.0</td>\n",
       "      <td>0.0</td>\n",
       "      <td>399.0</td>\n",
       "      <td>476.0</td>\n",
       "      <td>0.0</td>\n",
       "      <td>3016.0</td>\n",
       "      <td>0.0</td>\n",
       "      <td>0.0</td>\n",
       "    </tr>\n",
       "    <tr>\n",
       "      <th>4</th>\n",
       "      <td>PRV51007</td>\n",
       "      <td>5.0</td>\n",
       "      <td>1.0</td>\n",
       "      <td>No</td>\n",
       "      <td>19000.0</td>\n",
       "      <td>14710.0</td>\n",
       "      <td>5.0</td>\n",
       "      <td>424.0</td>\n",
       "      <td>431.0</td>\n",
       "      <td>22.0</td>\n",
       "      <td>193.0</td>\n",
       "      <td>1.0</td>\n",
       "      <td>0.0</td>\n",
       "    </tr>\n",
       "  </tbody>\n",
       "</table>\n",
       "</div>"
      ],
      "text/plain": [
       "   Provider  IP_average_claim_duration  OP_average_claim_duration PotentialFraud  IP_Claims_Total  OP_Claims_Total  IP_Averagedaysinhospital  IPAnnualDeductibleAmt  OPAnnualDeductibleAmt  IP_total_diagnosis  OP_total_diagnosis  IP_total_procedures  OP_total_procedures\n",
       "0  PRV51001                        5.0                        1.0             No          97000.0           7640.0                       5.0                  890.0                  475.0                36.0                44.0                  3.0                  0.0\n",
       "1  PRV51003                        5.0                        2.0            Yes         573000.0          32670.0                       5.0                  823.0                  665.0               503.0               190.0                 48.0                  0.0\n",
       "2  PRV51004                        0.0                        1.0             No              0.0          52170.0                       0.0                  454.0                  601.0                 0.0               385.0                  0.0                  0.0\n",
       "3  PRV51005                        0.0                        1.0            Yes              0.0         280910.0                       0.0                  399.0                  476.0                 0.0              3016.0                  0.0                  0.0\n",
       "4  PRV51007                        5.0                        1.0             No          19000.0          14710.0                       5.0                  424.0                  431.0                22.0               193.0                  1.0                  0.0"
      ]
     },
     "execution_count": 6,
     "metadata": {},
     "output_type": "execute_result"
    }
   ],
   "source": [
    "df.head()"
   ]
  },
  {
   "cell_type": "code",
   "execution_count": 7,
   "id": "54df263e-6502-42a2-bf98-7a1448cdc442",
   "metadata": {},
   "outputs": [],
   "source": [
    "X=df.drop(columns=['Provider','PotentialFraud'])"
   ]
  },
  {
   "cell_type": "code",
   "execution_count": 8,
   "id": "4a8ae76b-ca14-4315-836a-71cb6a939c5e",
   "metadata": {},
   "outputs": [
    {
     "data": {
      "text/plain": [
       "(5410, 11)"
      ]
     },
     "execution_count": 8,
     "metadata": {},
     "output_type": "execute_result"
    }
   ],
   "source": [
    "X.shape"
   ]
  },
  {
   "cell_type": "code",
   "execution_count": 9,
   "id": "61eae471-4758-4b39-8dd1-053d2321b779",
   "metadata": {},
   "outputs": [],
   "source": [
    "y=df['PotentialFraud'].map({'Yes': 1, 'No': 0}) "
   ]
  },
  {
   "cell_type": "code",
   "execution_count": 10,
   "id": "dd6ba8b6-8716-4fca-bfa4-80b70e0f9402",
   "metadata": {},
   "outputs": [
    {
     "data": {
      "text/plain": [
       "0       0\n",
       "1       1\n",
       "2       0\n",
       "3       1\n",
       "4       0\n",
       "       ..\n",
       "5405    0\n",
       "5406    0\n",
       "5407    0\n",
       "5408    0\n",
       "5409    0\n",
       "Name: PotentialFraud, Length: 5410, dtype: int64"
      ]
     },
     "execution_count": 10,
     "metadata": {},
     "output_type": "execute_result"
    }
   ],
   "source": [
    "y"
   ]
  },
  {
   "cell_type": "code",
   "execution_count": null,
   "id": "e8745a5e-5564-4e00-9af3-b9b3b109d706",
   "metadata": {},
   "outputs": [],
   "source": []
  },
  {
   "cell_type": "code",
   "execution_count": 42,
   "id": "9df4ca75-aba3-4e65-8666-95d1ca9da175",
   "metadata": {},
   "outputs": [],
   "source": [
    "# comparison with and without tuning"
   ]
  },
  {
   "cell_type": "code",
   "execution_count": 47,
   "id": "4ecf8d00-b745-4295-b488-2aeda91ee07a",
   "metadata": {},
   "outputs": [
    {
     "name": "stdout",
     "output_type": "stream",
     "text": [
      "\n",
      "Decision Tree (Baseline)\n",
      "Accuracy: 0.9418\n",
      "Precision: 0.7794\n",
      "Recall: 0.5248\n",
      "F1-score: 0.6272\n",
      "ROC-AUC: 0.9042\n",
      "Confusion Matrix:\n",
      "[[966  15]\n",
      " [ 48  53]]\n",
      "\n",
      "Decision Tree (After Hyperparameter Tuning)\n",
      "Accuracy: 0.9418\n",
      "Precision: 0.8393\n",
      "Recall: 0.4653\n",
      "F1-score: 0.5987\n",
      "ROC-AUC: 0.9564\n",
      "Confusion Matrix:\n",
      "[[972   9]\n",
      " [ 54  47]]\n"
     ]
    },
    {
     "data": {
      "image/png": "[encoded data removed]",
      "text/plain": [
       "<Figure size 1000x400 with 4 Axes>"
      ]
     },
     "metadata": {},
     "output_type": "display_data"
    },
    {
     "data": {
      "image/png": "[encoded data removed]",
      "text/plain": [
       "<Figure size 600x400 with 1 Axes>"
      ]
     },
     "metadata": {},
     "output_type": "display_data"
    }
   ],
   "source": [
    "# Decision Tree\n",
    "#Define features and target variable\n",
    "X = df.drop(columns=['Provider', 'PotentialFraud'])\n",
    "y = df['PotentialFraud'].map({'Yes': 1, 'No': 0})\n",
    "\n",
    "# Standardize features\n",
    "scaler = StandardScaler()\n",
    "X_scaled = scaler.fit_transform(X)\n",
    "\n",
    "# Split the dataset\n",
    "X_train, X_test, y_train, y_test = train_test_split(X_scaled, y, test_size=0.2, random_state=42, stratify=y)\n",
    "\n",
    "### **1. Train Decision Tree without Hyperparameter Tuning**\n",
    "dt_model = DecisionTreeClassifier(max_depth=5, random_state=42)\n",
    "dt_model.fit(X_train, y_train)\n",
    "\n",
    "# Predictions\n",
    "y_pred_dt = dt_model.predict(X_test)\n",
    "y_prob_dt = dt_model.predict_proba(X_test)[:, 1]\n",
    "\n",
    "# Compute evaluation metrics\n",
    "accuracy_dt = accuracy_score(y_test, y_pred_dt)\n",
    "precision_dt = precision_score(y_test, y_pred_dt)\n",
    "recall_dt = recall_score(y_test, y_pred_dt)\n",
    "f1_dt = f1_score(y_test, y_pred_dt)\n",
    "roc_auc_dt = roc_auc_score(y_test, y_prob_dt)\n",
    "conf_matrix_dt = confusion_matrix(y_test, y_pred_dt)\n",
    "\n",
    "### **2. Train Decision Tree with Hyperparameter Tuning using GridSearchCV**\n",
    "param_grid = {\n",
    "    'max_depth': [3, 5, 10, 15],\n",
    "    'min_samples_split': [2, 5, 10],\n",
    "    'min_samples_leaf': [1, 2, 5],\n",
    "    'criterion': ['gini', 'entropy']\n",
    "}\n",
    "\n",
    "grid_search = GridSearchCV(DecisionTreeClassifier(random_state=42), param_grid, cv=5, scoring='roc_auc', n_jobs=-1)\n",
    "grid_search.fit(X_train, y_train)\n",
    "\n",
    "# Best model after tuning\n",
    "best_dt_model = grid_search.best_estimator_\n",
    "\n",
    "# Predictions\n",
    "y_pred_best = best_dt_model.predict(X_test)\n",
    "y_prob_best = best_dt_model.predict_proba(X_test)[:, 1]\n",
    "\n",
    "# Compute evaluation metrics\n",
    "accuracy_best = accuracy_score(y_test, y_pred_best)\n",
    "precision_best = precision_score(y_test, y_pred_best)\n",
    "recall_best = recall_score(y_test, y_pred_best)\n",
    "f1_best = f1_score(y_test, y_pred_best)\n",
    "roc_auc_best = roc_auc_score(y_test, y_prob_best)\n",
    "conf_matrix_best = confusion_matrix(y_test, y_pred_best)\n",
    "\n",
    "### **3. Compare Results**\n",
    "print(\"\\nDecision Tree (Baseline)\")\n",
    "print(f'Accuracy: {accuracy_dt:.4f}')\n",
    "print(f'Precision: {precision_dt:.4f}')\n",
    "print(f'Recall: {recall_dt:.4f}')\n",
    "print(f'F1-score: {f1_dt:.4f}')\n",
    "print(f'ROC-AUC: {roc_auc_dt:.4f}')\n",
    "print(f'Confusion Matrix:\\n{conf_matrix_dt}')\n",
    "\n",
    "print(\"\\nDecision Tree (After Hyperparameter Tuning)\")\n",
    "print(f'Accuracy: {accuracy_best:.4f}')\n",
    "print(f'Precision: {precision_best:.4f}')\n",
    "print(f'Recall: {recall_best:.4f}')\n",
    "print(f'F1-score: {f1_best:.4f}')\n",
    "print(f'ROC-AUC: {roc_auc_best:.4f}')\n",
    "print(f'Confusion Matrix:\\n{conf_matrix_best}')\n",
    "\n",
    "import matplotlib.pyplot as plt\n",
    "import numpy as np\n",
    "from sklearn.metrics import ConfusionMatrixDisplay\n",
    "\n",
    "# Define figure size (smaller than before)\n",
    "fig, axes = plt.subplots(1, 2, figsize=(10,4))\n",
    "\n",
    "# Function to plot confusion matrix with larger text labels\n",
    "def plot_conf_matrix(ax, conf_matrix, title, cmap):\n",
    "    disp = ConfusionMatrixDisplay(confusion_matrix=conf_matrix, display_labels=['No Fraud', 'Fraud'])\n",
    "    disp.plot(cmap=cmap, ax=ax, values_format='d')  # 'd' ensures integer display\n",
    "    ax.set_title(title, fontsize=12)\n",
    "\n",
    "    # Increase font size of numbers inside matrix\n",
    "    for text in ax.texts:\n",
    "        text.set_fontsize(18)\n",
    "\n",
    "# Plot confusion matrices\n",
    "plot_conf_matrix(axes[0], conf_matrix_dt, 'Confusion Matrix (Without Tuning)', 'Blues')\n",
    "plot_conf_matrix(axes[1], conf_matrix_best, 'Confusion Matrix (With Tuning)', 'Greens')\n",
    "\n",
    "plt.tight_layout()\n",
    "plt.show()\n",
    "\n",
    "### **5. ROC Curve Comparison**\n",
    "fpr_dt, tpr_dt, _ = roc_curve(y_test, y_prob_dt)\n",
    "fpr_best, tpr_best, _ = roc_curve(y_test, y_prob_best)\n",
    "\n",
    "plt.figure(figsize=(6, 4))\n",
    "plt.plot(fpr_dt, tpr_dt, label='Baseline Decision Tree', color='blue')\n",
    "plt.plot(fpr_best, tpr_best, label='Tuned Decision Tree', color='green')\n",
    "plt.plot([0, 1], [0, 1], color='red', linestyle='--')\n",
    "plt.xlabel('False Positive Rate')\n",
    "plt.ylabel('True Positive Rate')\n",
    "plt.title('ROC Curve Comparison')\n",
    "plt.legend()\n",
    "plt.show()"
   ]
  },
  {
   "cell_type": "code",
   "execution_count": null,
   "id": "3c8d32d3-77a2-4a65-a952-ab2de54146fa",
   "metadata": {},
   "outputs": [],
   "source": []
  }
 ],
 "metadata": {
  "kernelspec": {
   "display_name": "Python 3 (ipykernel)",
   "language": "python",
   "name": "python3"
  },
  "language_info": {
   "codemirror_mode": {
    "name": "ipython",
    "version": 3
   },
   "file_extension": ".py",
   "mimetype": "text/x-python",
   "name": "python",
   "nbconvert_exporter": "python",
   "pygments_lexer": "ipython3",
   "version": "3.11.7"
  }
 },
 "nbformat": 4,
 "nbformat_minor": 5
}
